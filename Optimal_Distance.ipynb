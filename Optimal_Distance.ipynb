class Field():
    def __init__(self, size, item_pickup, item_dropoff, start_position) -> None:
        self.size = size
        self.item_pickup = item_pickup
        self.item_dropoff = item_dropoff
        self.position = start_position
        self.item_in_car = False
        
    def get_number_of_states(self):
        return self.size ** 4 * 2
    
    def get_state(self):
        #map to a specific state
        state = self.position[0] * self.size ** 3 * 2
        state = state + self.position[1] * self.size ** 2 * 2
        state = state + self.item_pickup[0] * self.size * 2
        state = state + self.item_pickup[1] * 2
        if self.item_in_car:
            state = state + 1
        return state
        
    
    def make_action(self, action):
        (x,y ) = self.position
        if action == 0: #Go South
            if y == self.size -1: #punish for going off the field if you're at position '9'
                return -10 ,False
            else:
                self.position = (x, y + 1)
                return -1, False #punish for moving
        elif action == 1: #Go North
            if y == 0: #at the top
                return -10, False #punish for going up if already at the top
            else:
                self.position = (x, y -1)
                return -1, False
        elif action == 2: #Go east
            if x == self.size -1:
                return -10, False
            else:
                self.position = (x + 1, y)
                return -1, False
        elif action == 3: #Go West
            if x == 0:
                return -10, False
            else:
                self.position = (x -1, y)
                return -1, False
        elif action == 4: #Pickup
            if self.item_in_car:
                return -10, False
            elif self.item_pickup != (x,y):
                return -10, False
            else:
                self.item_in_car = True
                return 20, False
        elif action == 5: #Dropoff
            if self.item_in_car is False: #don't drop off if you don't have
                return -10, False
            elif self.item_dropoff != (x,y): #don't drop off at wrong place
                self.item_pickup = (x, y) #need to update item after it was dropped
                self.item_in_car = False
                return -10, False
            else:
                return 20, True
