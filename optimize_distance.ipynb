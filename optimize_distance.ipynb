{
 "cells": [
  {
   "cell_type": "code",
   "execution_count": 32,
   "metadata": {},
   "outputs": [],
   "source": [
    "\n",
    "class Field():\n",
    "    def __init__(self, size, item_pickup, item_dropoff, start_position) -> None:\n",
    "        self.size = size\n",
    "        self.item_pickup = item_pickup\n",
    "        self.item_dropoff = item_dropoff\n",
    "        self.position = start_position\n",
    "        self.item_in_car = False\n",
    "        \n",
    "    def get_number_of_states(self):\n",
    "        return self.size ** 4 * 2\n",
    "    \n",
    "    def get_state(self):\n",
    "        #map to a specific state\n",
    "        state = self.position[0] * self.size ** 3 * 2\n",
    "        state = state + self.position[1] * self.size ** 2 * 2\n",
    "        state = state + self.item_pickup[0] * self.size * 2\n",
    "        state = state + self.item_pickup[1] * 2\n",
    "        if self.item_in_car:\n",
    "            state = state + 1\n",
    "        return state\n",
    "        \n",
    "    \n",
    "    def make_action(self, action):\n",
    "        (x,y ) = self.position\n",
    "        if action == 0: #Go South\n",
    "            if y == self.size -1: #punish for going off the field if you're at position '9'\n",
    "                return -10 ,False\n",
    "            else:\n",
    "                self.position = (x, y + 1)\n",
    "                return -1, False #punish for moving\n",
    "        elif action == 1: #Go North\n",
    "            if y == 0: #at the top\n",
    "                return -10, False #punish for going up if already at the top\n",
    "            else:\n",
    "                self.position = (x, y -1)\n",
    "                return -1, False\n",
    "        elif action == 2: #Go east\n",
    "            if x == self.size -1:\n",
    "                return -10, False\n",
    "            else:\n",
    "                self.position = (x + 1, y)\n",
    "                return -1, False\n",
    "        elif action == 3: #Go West\n",
    "            if x == 0:\n",
    "                return -10, False\n",
    "            else:\n",
    "                self.position = (x -1, y)\n",
    "                return -1, False\n",
    "        elif action == 4: #Pickup\n",
    "            if self.item_in_car:\n",
    "                return -10, False\n",
    "            elif self.item_pickup != (x,y):\n",
    "                return -10, False\n",
    "            else:\n",
    "                self.item_in_car = True\n",
    "                return 20, False\n",
    "        elif action == 5: #Dropoff\n",
    "            if self.item_in_car is False: #don't drop off if you don't have\n",
    "                return -10, False\n",
    "            elif self.item_dropoff != (x,y): #don't drop off at wrong place\n",
    "                self.item_pickup = (x, y) #need to update item after it was dropped\n",
    "                self.item_in_car = False\n",
    "                return -10, False\n",
    "            else:\n",
    "                return 20, True"
   ]
  },
  {
   "cell_type": "code",
   "execution_count": 13,
   "metadata": {},
   "outputs": [
    {
     "name": "stdout",
     "output_type": "stream",
     "text": [
      "(9, 0)\n"
     ]
    },
    {
     "data": {
      "text/plain": [
       "(9, 9)"
      ]
     },
     "execution_count": 13,
     "metadata": {},
     "output_type": "execute_result"
    }
   ],
   "source": [
    "field = Field(10, (0,0), (9,9), (9,0))\n",
    "field.make_action(3)\n",
    "field.make_action(3)\n",
    "field.make_action(3)\n",
    "field.make_action(3)\n",
    "field.make_action(3)\n",
    "field.make_action(3)\n",
    "field.make_action(3)\n",
    "field.make_action(3)\n",
    "field.make_action(3)\n",
    "field.make_action(4)\n",
    "\n",
    "field.make_action(2)\n",
    "field.make_action(2)\n",
    "field.make_action(2)\n",
    "field.make_action(2)\n",
    "field.make_action(2)\n",
    "field.make_action(2)\n",
    "field.make_action(2)\n",
    "field.make_action(2)\n",
    "field.make_action(2)\n",
    "\n",
    "field.make_action(0)\n",
    "field.make_action(0)\n",
    "field.make_action(0)\n",
    "field.make_action(0)\n",
    "field.make_action(0)\n",
    "field.make_action(0)\n",
    "field.make_action(0)\n",
    "field.make_action(0)\n",
    "field.make_action(0)\n",
    "\n",
    "field.make_action(4)\n",
    "field.position"
   ]
  },
  {
   "cell_type": "code",
   "execution_count": 15,
   "metadata": {},
   "outputs": [],
   "source": [
    "import random\n",
    "def naive_solution():\n",
    "    size = 10\n",
    "    item_start = (0,0)\n",
    "    item_drop = (9,9)\n",
    "    start_position = (9,0)\n",
    "    field = Field(size, item_start, item_drop, start_position)\n",
    "    done = False\n",
    "    steps = 0\n",
    "    while not done:\n",
    "        action = random.randint(0,5)\n",
    "        reward, done = field.make_action(action)\n",
    "        steps += 1\n",
    "    return steps"
   ]
  },
  {
   "cell_type": "code",
   "execution_count": 37,
   "metadata": {},
   "outputs": [],
   "source": [
    "import numpy as np\n",
    "\n",
    "size = 10\n",
    "item_start = (0,0)\n",
    "item_drop = (9,9)\n",
    "start_position = (9,0)\n",
    "field = Field(size, item_start, item_drop, start_position)\n",
    "\n",
    "number_of_states = field.get_number_of_states()\n",
    "number_of_actions = 6\n",
    "q_table = np.zeros((number_of_states, number_of_actions))\n",
    "epsilon = 0.1 #explore\n",
    "alpha = 0.1\n",
    "gamma = 0.6\n",
    "\n",
    "for _ in range(1000):\n",
    "    field = Field(size, item_start, item_drop, start_position)\n",
    "    done = False\n",
    "    while not done:\n",
    "        state = field.get_state()\n",
    "        if random.uniform(0,1) < epsilon:\n",
    "            action = random.randint(0,5)\n",
    "        else:\n",
    "            action = np.argmax(q_table[state])\n",
    "           \n",
    "\n",
    "        reward, done = field.make_action(action)\n",
    "        new_state = field.get_state()\n",
    "        new_state_max = np.max(q_table[new_state])\n",
    "        q_table[state, action] = (1- alpha) * q_table[state, action] + alpha*(reward + gamma * new_state_max - q_table[state, action])\n",
    "        "
   ]
  },
  {
   "cell_type": "code",
   "execution_count": 39,
   "metadata": {},
   "outputs": [],
   "source": [
    "def reinforcement_learning():\n",
    "    epsilon = 0.1 #explore\n",
    "    alpha = 0.1\n",
    "    gamma = 0.6\n",
    "    field = Field(size, item_start, item_drop, start_position)\n",
    "    done = False\n",
    "    steps = 0\n",
    "    while not done:\n",
    "        state = field.get_state()\n",
    "        if random.uniform(0,1) < epsilon:\n",
    "            action = random.randint(0,5)\n",
    "        else:\n",
    "            action = np.argmax(q_table[state])\n",
    "           \n",
    "\n",
    "        reward, done = field.make_action(action)\n",
    "        new_state = field.get_state()\n",
    "        new_state_max = np.max(q_table[new_state])\n",
    "        q_table[state, action] = (1- alpha) * q_table[state, action] + alpha*(reward + gamma * new_state_max - q_table[state, action])\n",
    "        steps += 1\n",
    "    return steps"
   ]
  },
  {
   "cell_type": "code",
   "execution_count": 40,
   "metadata": {},
   "outputs": [
    {
     "data": {
      "text/plain": [
       "35"
      ]
     },
     "execution_count": 40,
     "metadata": {},
     "output_type": "execute_result"
    }
   ],
   "source": [
    "reinforcement_learning()"
   ]
  },
  {
   "cell_type": "code",
   "execution_count": 43,
   "metadata": {},
   "outputs": [],
   "source": [
    "runs_rl = [reinforcement_learning() for _ in range(10000)]"
   ]
  },
  {
   "cell_type": "code",
   "execution_count": 44,
   "metadata": {},
   "outputs": [
    {
     "data": {
      "text/plain": [
       "55.1501"
      ]
     },
     "execution_count": 44,
     "metadata": {},
     "output_type": "execute_result"
    }
   ],
   "source": [
    "sum(runs_rl) / len(runs_rl)"
   ]
  }
 ],
 "metadata": {
  "kernelspec": {
   "display_name": "Python 3.7.6 ('base')",
   "language": "python",
   "name": "python3"
  },
  "language_info": {
   "codemirror_mode": {
    "name": "ipython",
    "version": 3
   },
   "file_extension": ".py",
   "mimetype": "text/x-python",
   "name": "python",
   "nbconvert_exporter": "python",
   "pygments_lexer": "ipython3",
   "version": "3.7.6"
  },
  "orig_nbformat": 4,
  "vscode": {
   "interpreter": {
    "hash": "ffc0a35b7af676f1db862e9f27cceaf7995b25360545275952d4f8f9ed80b427"
   }
  }
 },
 "nbformat": 4,
 "nbformat_minor": 2
}
